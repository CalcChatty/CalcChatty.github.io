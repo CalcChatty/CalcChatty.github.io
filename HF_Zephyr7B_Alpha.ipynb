{
  "nbformat": 4,
  "nbformat_minor": 0,
  "metadata": {
    "colab": {
      "provenance": [],
      "gpuType": "T4",
      "include_colab_link": true
    },
    "kernelspec": {
      "name": "python3",
      "display_name": "Python 3"
    },
    "language_info": {
      "name": "python"
    },
    "accelerator": "GPU"
  },
  "cells": [
    {
      "cell_type": "markdown",
      "metadata": {
        "id": "view-in-github",
        "colab_type": "text"
      },
      "source": [
        "<a href=\"https://colab.research.google.com/github/CalcChatty/CalcChatty.github.io/blob/main/HF_Zephyr7B_Alpha.ipynb\" target=\"_parent\"><img src=\"https://colab.research.google.com/assets/colab-badge.svg\" alt=\"Open In Colab\"/></a>"
      ]
    },
    {
      "cell_type": "markdown",
      "source": [
        "# Quick start to run Zephyr 7B Alpha on Google Colab"
      ],
      "metadata": {
        "id": "oSK6YKSx6H7m"
      }
    },
    {
      "cell_type": "code",
      "source": [
        "# Install transformers from source - only needed for versions <= v4.34\n",
        "%pip install git+https://github.com/huggingface/transformers.git -q\n",
        "%pip install accelerate -q"
      ],
      "metadata": {
        "id": "BLsaLpLP6QSK"
      },
      "execution_count": null,
      "outputs": []
    },
    {
      "cell_type": "markdown",
      "source": [
        "## Load dependencies"
      ],
      "metadata": {
        "id": "YK6Ux0Xy7D4o"
      }
    },
    {
      "cell_type": "code",
      "source": [
        "import torch\n",
        "from transformers import pipeline"
      ],
      "metadata": {
        "id": "fLjPZ5ke6q8Y"
      },
      "execution_count": null,
      "outputs": []
    },
    {
      "cell_type": "markdown",
      "source": [
        "## Download model and load pipeline"
      ],
      "metadata": {
        "id": "e1mBWABw7MAQ"
      }
    },
    {
      "cell_type": "code",
      "source": [
        "pipe = pipeline(\"text-generation\", model=\"HuggingFaceH4/zephyr-7b-alpha\", torch_dtype=torch.bfloat16, device_map=\"auto\")"
      ],
      "metadata": {
        "id": "XMeitcMd7G-a"
      },
      "execution_count": null,
      "outputs": []
    },
    {
      "cell_type": "markdown",
      "source": [
        "## Prepare inputs"
      ],
      "metadata": {
        "id": "heIH5UYR71Ui"
      }
    },
    {
      "cell_type": "code",
      "source": [
        "# Each message can have 1 of 3 roles: \"system\" (to provide initial instructions), \"user\", or \"assistant\". For inference, make sure \"user\" is the role in the final message.\n",
        "messages = [\n",
        "    {\n",
        "        \"role\": \"system\",\n",
        "        \"content\": \"You are a friendly chatbot who always responds in the style of a pirate.\",\n",
        "    },\n",
        "    {\"role\": \"user\", \"content\": \"How many helicopters can a human eat in one sitting?\"},\n",
        "]\n",
        "# We use the tokenizer's chat template to format each message - see https://huggingface.co/docs/transformers/main/en/chat_templating\n",
        "prompt = pipe.tokenizer.apply_chat_template(messages, tokenize=False, add_generation_prompt=True)\n",
        "print(prompt)"
      ],
      "metadata": {
        "id": "UKcD_fy_7QYD"
      },
      "execution_count": null,
      "outputs": []
    },
    {
      "cell_type": "markdown",
      "source": [
        "## Generate!"
      ],
      "metadata": {
        "id": "20K8tYJo7_7b"
      }
    },
    {
      "cell_type": "code",
      "source": [
        "outputs = pipe(prompt, max_new_tokens=256, do_sample=True, temperature=0.7, top_k=50, top_p=0.95)\n",
        "print(outputs[0][\"generated_text\"])"
      ],
      "metadata": {
        "id": "xc8RZR0b8Br2"
      },
      "execution_count": null,
      "outputs": []
    },
    {
      "cell_type": "code",
      "source": [],
      "metadata": {
        "id": "OJKvdt1B8if0"
      },
      "execution_count": null,
      "outputs": []
    }
  ]
}